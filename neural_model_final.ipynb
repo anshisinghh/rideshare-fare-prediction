{
 "cells": [
  {
   "cell_type": "markdown",
   "metadata": {},
   "source": [
    "# Imports"
   ]
  },
  {
   "cell_type": "code",
   "execution_count": 1,
   "metadata": {},
   "outputs": [],
   "source": [
    "import os\n",
    "import numpy\n",
    "import pandas\n",
    "import seaborn as sns\n",
    "import matplotlib.pyplot as plt\n",
    "\n",
    "from sklearn.preprocessing import LabelEncoder, StandardScaler\n",
    "from sklearn.metrics import mean_squared_error, mean_absolute_error\n",
    "\n",
    "from tensorflow.keras.models import Sequential\n",
    "from tensorflow.keras.layers import Input, Dense, Dropout, BatchNormalization\n",
    "from tensorflow.keras.callbacks import EarlyStopping"
   ]
  },
  {
   "cell_type": "markdown",
   "metadata": {},
   "source": [
    "# File Processing"
   ]
  },
  {
   "cell_type": "code",
   "execution_count": 2,
   "metadata": {},
   "outputs": [
    {
     "name": "stdout",
     "output_type": "stream",
     "text": [
      "Processing file: ./dataset\\fhvhv_tripdata_2022-01.parquet\n",
      "Processing file: ./dataset\\fhvhv_tripdata_2022-02.parquet\n"
     ]
    }
   ],
   "source": [
    "for dirname, _, filenames in os.walk('./dataset'):\n",
    "    for filename in filenames:\n",
    "        filepath = os.path.join(dirname, filename)\n",
    "        print(f\"Processing file: {filepath}\")\n"
   ]
  },
  {
   "cell_type": "markdown",
   "metadata": {},
   "source": [
    "# Loading Data & Data Verification"
   ]
  },
  {
   "cell_type": "code",
   "execution_count": 3,
   "metadata": {},
   "outputs": [
    {
     "name": "stdout",
     "output_type": "stream",
     "text": [
      "Loaded 2 files.\n"
     ]
    }
   ],
   "source": [
    "path_files = []\n",
    "\n",
    "for year in range(2022, 2025):\n",
    "    year_files = [files for files in os.listdir('./dataset') if f'_{year}-' in files]\n",
    "    year_files.sort() \n",
    "    \n",
    "    for file in year_files:\n",
    "        path_files.append(pandas.read_parquet('./dataset/' + file))\n",
    "        \n",
    "print(f\"Loaded {len(path_files)} files.\")"
   ]
  },
  {
   "cell_type": "code",
   "execution_count": 4,
   "metadata": {},
   "outputs": [
    {
     "name": "stdout",
     "output_type": "stream",
     "text": [
      "Total rows: 30770874\n"
     ]
    }
   ],
   "source": [
    "df = pandas.concat(path_files, ignore_index=True)\n",
    "print(f\"Total rows: {len(df)}\")"
   ]
  },
  {
   "cell_type": "code",
   "execution_count": 5,
   "metadata": {},
   "outputs": [
    {
     "data": {
      "text/plain": [
       "Index(['hvfhs_license_num', 'dispatching_base_num', 'originating_base_num',\n",
       "       'request_datetime', 'on_scene_datetime', 'pickup_datetime',\n",
       "       'dropoff_datetime', 'PULocationID', 'DOLocationID', 'trip_miles',\n",
       "       'trip_time', 'base_passenger_fare', 'tolls', 'bcf', 'sales_tax',\n",
       "       'congestion_surcharge', 'airport_fee', 'tips', 'driver_pay',\n",
       "       'shared_request_flag', 'shared_match_flag', 'access_a_ride_flag',\n",
       "       'wav_request_flag', 'wav_match_flag'],\n",
       "      dtype='object')"
      ]
     },
     "execution_count": 5,
     "metadata": {},
     "output_type": "execute_result"
    }
   ],
   "source": [
    "df.columns"
   ]
  },
  {
   "cell_type": "code",
   "execution_count": 6,
   "metadata": {},
   "outputs": [
    {
     "data": {
      "text/plain": [
       "count    3.077087e+07\n",
       "mean     2.041490e+01\n",
       "std      1.598893e+01\n",
       "min     -5.201100e+02\n",
       "25%      1.029000e+01\n",
       "50%      1.609000e+01\n",
       "75%      2.502000e+01\n",
       "max      4.995960e+03\n",
       "Name: base_passenger_fare, dtype: float64"
      ]
     },
     "execution_count": 6,
     "metadata": {},
     "output_type": "execute_result"
    }
   ],
   "source": [
    "df['base_passenger_fare'].describe()"
   ]
  },
  {
   "cell_type": "markdown",
   "metadata": {},
   "source": [
    "# Data Cleaning"
   ]
  },
  {
   "cell_type": "code",
   "execution_count": 7,
   "metadata": {},
   "outputs": [
    {
     "name": "stdout",
     "output_type": "stream",
     "text": [
      "Rows after filtering by fare: 30589303\n"
     ]
    }
   ],
   "source": [
    "df = df[(df['base_passenger_fare'] >= 0) & (df['base_passenger_fare'] < 100)]\n",
    "print(f\"Rows after filtering by fare: {len(df)}\")"
   ]
  },
  {
   "cell_type": "code",
   "execution_count": 8,
   "metadata": {},
   "outputs": [
    {
     "name": "stdout",
     "output_type": "stream",
     "text": [
      "Rows after filtering by miles: 30589279\n"
     ]
    }
   ],
   "source": [
    "df = df[(df['trip_miles'] >= 0) & (df['trip_miles'] < 100)]\n",
    "print(f\"Rows after filtering by miles: {len(df)}\")"
   ]
  },
  {
   "cell_type": "code",
   "execution_count": 9,
   "metadata": {},
   "outputs": [
    {
     "name": "stdout",
     "output_type": "stream",
     "text": [
      "Rows after filtering by time: 30007224\n"
     ]
    }
   ],
   "source": [
    "df = df[(df['trip_time'] >= 0) & (df['trip_time'] < 3000)]\n",
    "print(f\"Rows after filtering by time: {len(df)}\")"
   ]
  },
  {
   "cell_type": "code",
   "execution_count": 10,
   "metadata": {},
   "outputs": [
    {
     "data": {
      "text/html": [
       "<div>\n",
       "<style scoped>\n",
       "    .dataframe tbody tr th:only-of-type {\n",
       "        vertical-align: middle;\n",
       "    }\n",
       "\n",
       "    .dataframe tbody tr th {\n",
       "        vertical-align: top;\n",
       "    }\n",
       "\n",
       "    .dataframe thead th {\n",
       "        text-align: right;\n",
       "    }\n",
       "</style>\n",
       "<table border=\"1\" class=\"dataframe\">\n",
       "  <thead>\n",
       "    <tr style=\"text-align: right;\">\n",
       "      <th></th>\n",
       "      <th>request_datetime</th>\n",
       "      <th>trip_miles</th>\n",
       "      <th>trip_time</th>\n",
       "      <th>base_passenger_fare</th>\n",
       "      <th>tips</th>\n",
       "      <th>bcf</th>\n",
       "      <th>driver_pay</th>\n",
       "      <th>tolls</th>\n",
       "      <th>airport_fee</th>\n",
       "      <th>sales_tax</th>\n",
       "      <th>congestion_surcharge</th>\n",
       "    </tr>\n",
       "  </thead>\n",
       "  <tbody>\n",
       "    <tr>\n",
       "      <th>count</th>\n",
       "      <td>30007224</td>\n",
       "      <td>3.000722e+07</td>\n",
       "      <td>3.000722e+07</td>\n",
       "      <td>3.000722e+07</td>\n",
       "      <td>3.000722e+07</td>\n",
       "      <td>3.000722e+07</td>\n",
       "      <td>3.000722e+07</td>\n",
       "      <td>3.000722e+07</td>\n",
       "      <td>3.000722e+07</td>\n",
       "      <td>3.000722e+07</td>\n",
       "      <td>3.000722e+07</td>\n",
       "    </tr>\n",
       "    <tr>\n",
       "      <th>mean</th>\n",
       "      <td>2022-02-01 03:46:24.927536</td>\n",
       "      <td>4.291349e+00</td>\n",
       "      <td>9.991494e+02</td>\n",
       "      <td>1.914637e+01</td>\n",
       "      <td>7.895686e-01</td>\n",
       "      <td>6.018393e-01</td>\n",
       "      <td>1.495303e+01</td>\n",
       "      <td>8.048666e-01</td>\n",
       "      <td>1.352081e-01</td>\n",
       "      <td>1.685616e+00</td>\n",
       "      <td>1.115937e+00</td>\n",
       "    </tr>\n",
       "    <tr>\n",
       "      <th>min</th>\n",
       "      <td>2021-12-31 22:55:05</td>\n",
       "      <td>0.000000e+00</td>\n",
       "      <td>0.000000e+00</td>\n",
       "      <td>0.000000e+00</td>\n",
       "      <td>0.000000e+00</td>\n",
       "      <td>0.000000e+00</td>\n",
       "      <td>-2.865000e+01</td>\n",
       "      <td>0.000000e+00</td>\n",
       "      <td>0.000000e+00</td>\n",
       "      <td>0.000000e+00</td>\n",
       "      <td>0.000000e+00</td>\n",
       "    </tr>\n",
       "    <tr>\n",
       "      <th>25%</th>\n",
       "      <td>2022-01-17 16:03:32</td>\n",
       "      <td>1.520000e+00</td>\n",
       "      <td>5.570000e+02</td>\n",
       "      <td>1.017000e+01</td>\n",
       "      <td>0.000000e+00</td>\n",
       "      <td>3.000000e-01</td>\n",
       "      <td>7.670000e+00</td>\n",
       "      <td>0.000000e+00</td>\n",
       "      <td>0.000000e+00</td>\n",
       "      <td>8.700000e-01</td>\n",
       "      <td>0.000000e+00</td>\n",
       "    </tr>\n",
       "    <tr>\n",
       "      <th>50%</th>\n",
       "      <td>2022-02-02 07:16:47</td>\n",
       "      <td>2.760000e+00</td>\n",
       "      <td>8.640000e+02</td>\n",
       "      <td>1.584000e+01</td>\n",
       "      <td>0.000000e+00</td>\n",
       "      <td>4.800000e-01</td>\n",
       "      <td>1.208000e+01</td>\n",
       "      <td>0.000000e+00</td>\n",
       "      <td>0.000000e+00</td>\n",
       "      <td>1.370000e+00</td>\n",
       "      <td>0.000000e+00</td>\n",
       "    </tr>\n",
       "    <tr>\n",
       "      <th>75%</th>\n",
       "      <td>2022-02-15 16:33:50</td>\n",
       "      <td>5.460000e+00</td>\n",
       "      <td>1.313000e+03</td>\n",
       "      <td>2.415000e+01</td>\n",
       "      <td>0.000000e+00</td>\n",
       "      <td>7.500000e-01</td>\n",
       "      <td>1.924000e+01</td>\n",
       "      <td>0.000000e+00</td>\n",
       "      <td>0.000000e+00</td>\n",
       "      <td>2.130000e+00</td>\n",
       "      <td>2.750000e+00</td>\n",
       "    </tr>\n",
       "    <tr>\n",
       "      <th>max</th>\n",
       "      <td>2022-03-01 00:10:00</td>\n",
       "      <td>5.012500e+01</td>\n",
       "      <td>2.999000e+03</td>\n",
       "      <td>9.999000e+01</td>\n",
       "      <td>2.000000e+02</td>\n",
       "      <td>7.740000e+00</td>\n",
       "      <td>3.032100e+02</td>\n",
       "      <td>8.000000e+01</td>\n",
       "      <td>5.000000e+00</td>\n",
       "      <td>2.292000e+01</td>\n",
       "      <td>1.100000e+01</td>\n",
       "    </tr>\n",
       "    <tr>\n",
       "      <th>std</th>\n",
       "      <td>NaN</td>\n",
       "      <td>4.222243e+00</td>\n",
       "      <td>5.801446e+02</td>\n",
       "      <td>1.203645e+01</td>\n",
       "      <td>2.208923e+00</td>\n",
       "      <td>4.184457e-01</td>\n",
       "      <td>9.684675e+00</td>\n",
       "      <td>3.122377e+00</td>\n",
       "      <td>5.686063e-01</td>\n",
       "      <td>1.127249e+00</td>\n",
       "      <td>1.361335e+00</td>\n",
       "    </tr>\n",
       "  </tbody>\n",
       "</table>\n",
       "</div>"
      ],
      "text/plain": [
       "                 request_datetime    trip_miles     trip_time  \\\n",
       "count                    30007224  3.000722e+07  3.000722e+07   \n",
       "mean   2022-02-01 03:46:24.927536  4.291349e+00  9.991494e+02   \n",
       "min           2021-12-31 22:55:05  0.000000e+00  0.000000e+00   \n",
       "25%           2022-01-17 16:03:32  1.520000e+00  5.570000e+02   \n",
       "50%           2022-02-02 07:16:47  2.760000e+00  8.640000e+02   \n",
       "75%           2022-02-15 16:33:50  5.460000e+00  1.313000e+03   \n",
       "max           2022-03-01 00:10:00  5.012500e+01  2.999000e+03   \n",
       "std                           NaN  4.222243e+00  5.801446e+02   \n",
       "\n",
       "       base_passenger_fare          tips           bcf    driver_pay  \\\n",
       "count         3.000722e+07  3.000722e+07  3.000722e+07  3.000722e+07   \n",
       "mean          1.914637e+01  7.895686e-01  6.018393e-01  1.495303e+01   \n",
       "min           0.000000e+00  0.000000e+00  0.000000e+00 -2.865000e+01   \n",
       "25%           1.017000e+01  0.000000e+00  3.000000e-01  7.670000e+00   \n",
       "50%           1.584000e+01  0.000000e+00  4.800000e-01  1.208000e+01   \n",
       "75%           2.415000e+01  0.000000e+00  7.500000e-01  1.924000e+01   \n",
       "max           9.999000e+01  2.000000e+02  7.740000e+00  3.032100e+02   \n",
       "std           1.203645e+01  2.208923e+00  4.184457e-01  9.684675e+00   \n",
       "\n",
       "              tolls   airport_fee     sales_tax  congestion_surcharge  \n",
       "count  3.000722e+07  3.000722e+07  3.000722e+07          3.000722e+07  \n",
       "mean   8.048666e-01  1.352081e-01  1.685616e+00          1.115937e+00  \n",
       "min    0.000000e+00  0.000000e+00  0.000000e+00          0.000000e+00  \n",
       "25%    0.000000e+00  0.000000e+00  8.700000e-01          0.000000e+00  \n",
       "50%    0.000000e+00  0.000000e+00  1.370000e+00          0.000000e+00  \n",
       "75%    0.000000e+00  0.000000e+00  2.130000e+00          2.750000e+00  \n",
       "max    8.000000e+01  5.000000e+00  2.292000e+01          1.100000e+01  \n",
       "std    3.122377e+00  5.686063e-01  1.127249e+00          1.361335e+00  "
      ]
     },
     "execution_count": 10,
     "metadata": {},
     "output_type": "execute_result"
    }
   ],
   "source": [
    "df = df[['hvfhs_license_num', 'request_datetime','trip_miles','trip_time', 'base_passenger_fare', 'tips', 'bcf', 'driver_pay', 'tolls', 'airport_fee', 'sales_tax', 'congestion_surcharge']]\n",
    "df.describe()"
   ]
  },
  {
   "cell_type": "markdown",
   "metadata": {},
   "source": [
    "# Feature Engineering"
   ]
  },
  {
   "cell_type": "code",
   "execution_count": 11,
   "metadata": {},
   "outputs": [],
   "source": [
    "df['request_hour'] = df['request_datetime'].dt.hour\n",
    "df['request_day_of_week'] = df['request_datetime'].dt.dayofweek"
   ]
  },
  {
   "cell_type": "code",
   "execution_count": 12,
   "metadata": {},
   "outputs": [],
   "source": [
    "encoder = LabelEncoder()\n",
    "df['hvfhs_license_num_encoded'] = encoder.fit_transform(df['hvfhs_license_num'])\n",
    "df = df.drop(columns=['hvfhs_license_num'])"
   ]
  },
  {
   "cell_type": "markdown",
   "metadata": {},
   "source": [
    "# Feature Correlation Heatmap"
   ]
  },
  {
   "cell_type": "code",
   "execution_count": 13,
   "metadata": {},
   "outputs": [
    {
     "data": {
      "image/png": "[encoded data removed]",
      "text/plain": [
       "<Figure size 800x600 with 2 Axes>"
      ]
     },
     "metadata": {},
     "output_type": "display_data"
    }
   ],
   "source": [
    "target_correlation = df.corr()['base_passenger_fare'].drop('base_passenger_fare') \n",
    "\n",
    "corr_df = target_correlation.to_frame(name='Correlation').sort_values(by='Correlation', ascending=False)\n",
    "\n",
    "# Plot heatmap\n",
    "plt.figure(figsize=(8, 6))\n",
    "sns.heatmap(corr_df, annot=True, cmap=\"coolwarm\", cbar=True, fmt=\".2f\")\n",
    "plt.title(\"Correlation with Base Passenger Fare\")\n",
    "plt.show()"
   ]
  },
  {
   "cell_type": "code",
   "execution_count": 14,
   "metadata": {},
   "outputs": [
    {
     "data": {
      "image/png": "[encoded data removed]",
      "text/plain": [
       "<Figure size 800x600 with 2 Axes>"
      ]
     },
     "metadata": {},
     "output_type": "display_data"
    }
   ],
   "source": [
    "target_correlation = df.corr()['tips'].drop('tips') \n",
    "\n",
    "corr_df = target_correlation.to_frame(name='Correlation').sort_values(by='Correlation', ascending=False)\n",
    "\n",
    "# Plot heatmap\n",
    "plt.figure(figsize=(8, 6))\n",
    "sns.heatmap(corr_df, annot=True, cmap=\"coolwarm\", cbar=True, fmt=\".2f\")\n",
    "plt.title(\"Correlation with Tips\")\n",
    "plt.show()"
   ]
  },
  {
   "cell_type": "markdown",
   "metadata": {},
   "source": [
    "# Spliting Data (Train, Validation, Test)"
   ]
  },
  {
   "cell_type": "code",
   "execution_count": 15,
   "metadata": {},
   "outputs": [],
   "source": [
    "# Train: Days 1–20\n",
    "train_data = df[df['request_datetime'].dt.day <= 20]\n",
    "\n",
    "# Validation: Days 21–25\n",
    "validation_data = df[(df['request_datetime'].dt.day >= 21) & (df['request_datetime'].dt.day <= 25)]\n",
    "\n",
    "# Test: Days 26–end of the month\n",
    "test_data = df[df['request_datetime'].dt.day >= 26]"
   ]
  },
  {
   "cell_type": "code",
   "execution_count": 16,
   "metadata": {},
   "outputs": [],
   "source": [
    "train_data = train_data.drop(columns=['request_datetime'])\n",
    "validation_data = validation_data.drop(columns=['request_datetime'])\n",
    "test_data = test_data.drop(columns=['request_datetime'])"
   ]
  },
  {
   "cell_type": "markdown",
   "metadata": {},
   "source": [
    "# Data Normalization"
   ]
  },
  {
   "cell_type": "code",
   "execution_count": 17,
   "metadata": {},
   "outputs": [],
   "source": [
    "columns_to_scale = ['trip_miles', 'trip_time', 'base_passenger_fare', 'tips']\n",
    "\n",
    "scaler = StandardScaler()\n",
    "\n",
    "# Training data\n",
    "train_data_scaled = train_data.copy()\n",
    "train_data_scaled[columns_to_scale] = scaler.fit_transform(train_data[columns_to_scale])\n",
    "\n",
    "# Validation data\n",
    "validation_data_scaled = validation_data.copy()\n",
    "validation_data_scaled[columns_to_scale] = scaler.transform(validation_data[columns_to_scale])\n",
    "\n",
    "# Test data\n",
    "test_data_scaled = test_data.copy()\n",
    "test_data_scaled[columns_to_scale] = scaler.transform(test_data[columns_to_scale])"
   ]
  },
  {
   "cell_type": "code",
   "execution_count": 18,
   "metadata": {},
   "outputs": [
    {
     "name": "stdout",
     "output_type": "stream",
     "text": [
      "Train Data Sample:\n"
     ]
    },
    {
     "data": {
      "text/html": [
       "<div>\n",
       "<style scoped>\n",
       "    .dataframe tbody tr th:only-of-type {\n",
       "        vertical-align: middle;\n",
       "    }\n",
       "\n",
       "    .dataframe tbody tr th {\n",
       "        vertical-align: top;\n",
       "    }\n",
       "\n",
       "    .dataframe thead th {\n",
       "        text-align: right;\n",
       "    }\n",
       "</style>\n",
       "<table border=\"1\" class=\"dataframe\">\n",
       "  <thead>\n",
       "    <tr style=\"text-align: right;\">\n",
       "      <th></th>\n",
       "      <th>trip_miles</th>\n",
       "      <th>trip_time</th>\n",
       "      <th>base_passenger_fare</th>\n",
       "      <th>tips</th>\n",
       "      <th>bcf</th>\n",
       "      <th>driver_pay</th>\n",
       "      <th>tolls</th>\n",
       "      <th>airport_fee</th>\n",
       "      <th>sales_tax</th>\n",
       "      <th>congestion_surcharge</th>\n",
       "      <th>request_hour</th>\n",
       "      <th>request_day_of_week</th>\n",
       "      <th>hvfhs_license_num_encoded</th>\n",
       "    </tr>\n",
       "  </thead>\n",
       "  <tbody>\n",
       "    <tr>\n",
       "      <th>0</th>\n",
       "      <td>1.18</td>\n",
       "      <td>664</td>\n",
       "      <td>24.90</td>\n",
       "      <td>0.0</td>\n",
       "      <td>0.75</td>\n",
       "      <td>23.03</td>\n",
       "      <td>0.0</td>\n",
       "      <td>0.0</td>\n",
       "      <td>2.21</td>\n",
       "      <td>2.75</td>\n",
       "      <td>0</td>\n",
       "      <td>5</td>\n",
       "      <td>0</td>\n",
       "    </tr>\n",
       "    <tr>\n",
       "      <th>1</th>\n",
       "      <td>0.82</td>\n",
       "      <td>460</td>\n",
       "      <td>11.97</td>\n",
       "      <td>0.0</td>\n",
       "      <td>0.36</td>\n",
       "      <td>12.32</td>\n",
       "      <td>0.0</td>\n",
       "      <td>0.0</td>\n",
       "      <td>1.06</td>\n",
       "      <td>2.75</td>\n",
       "      <td>0</td>\n",
       "      <td>5</td>\n",
       "      <td>0</td>\n",
       "    </tr>\n",
       "    <tr>\n",
       "      <th>2</th>\n",
       "      <td>1.18</td>\n",
       "      <td>595</td>\n",
       "      <td>29.82</td>\n",
       "      <td>0.0</td>\n",
       "      <td>0.89</td>\n",
       "      <td>23.30</td>\n",
       "      <td>0.0</td>\n",
       "      <td>0.0</td>\n",
       "      <td>2.65</td>\n",
       "      <td>2.75</td>\n",
       "      <td>0</td>\n",
       "      <td>5</td>\n",
       "      <td>0</td>\n",
       "    </tr>\n",
       "    <tr>\n",
       "      <th>3</th>\n",
       "      <td>1.65</td>\n",
       "      <td>303</td>\n",
       "      <td>7.91</td>\n",
       "      <td>0.0</td>\n",
       "      <td>0.24</td>\n",
       "      <td>6.30</td>\n",
       "      <td>0.0</td>\n",
       "      <td>0.0</td>\n",
       "      <td>0.70</td>\n",
       "      <td>2.75</td>\n",
       "      <td>0</td>\n",
       "      <td>5</td>\n",
       "      <td>0</td>\n",
       "    </tr>\n",
       "    <tr>\n",
       "      <th>4</th>\n",
       "      <td>1.65</td>\n",
       "      <td>461</td>\n",
       "      <td>9.44</td>\n",
       "      <td>0.0</td>\n",
       "      <td>0.28</td>\n",
       "      <td>7.44</td>\n",
       "      <td>0.0</td>\n",
       "      <td>0.0</td>\n",
       "      <td>0.84</td>\n",
       "      <td>2.75</td>\n",
       "      <td>0</td>\n",
       "      <td>5</td>\n",
       "      <td>0</td>\n",
       "    </tr>\n",
       "    <tr>\n",
       "      <th>5</th>\n",
       "      <td>4.51</td>\n",
       "      <td>762</td>\n",
       "      <td>17.67</td>\n",
       "      <td>0.0</td>\n",
       "      <td>0.53</td>\n",
       "      <td>12.25</td>\n",
       "      <td>0.0</td>\n",
       "      <td>0.0</td>\n",
       "      <td>1.57</td>\n",
       "      <td>2.75</td>\n",
       "      <td>0</td>\n",
       "      <td>5</td>\n",
       "      <td>0</td>\n",
       "    </tr>\n",
       "    <tr>\n",
       "      <th>6</th>\n",
       "      <td>3.68</td>\n",
       "      <td>931</td>\n",
       "      <td>16.68</td>\n",
       "      <td>0.0</td>\n",
       "      <td>0.50</td>\n",
       "      <td>12.75</td>\n",
       "      <td>0.0</td>\n",
       "      <td>0.0</td>\n",
       "      <td>1.48</td>\n",
       "      <td>2.75</td>\n",
       "      <td>0</td>\n",
       "      <td>5</td>\n",
       "      <td>0</td>\n",
       "    </tr>\n",
       "    <tr>\n",
       "      <th>7</th>\n",
       "      <td>2.77</td>\n",
       "      <td>843</td>\n",
       "      <td>14.41</td>\n",
       "      <td>4.0</td>\n",
       "      <td>0.43</td>\n",
       "      <td>11.47</td>\n",
       "      <td>0.0</td>\n",
       "      <td>0.0</td>\n",
       "      <td>1.28</td>\n",
       "      <td>0.00</td>\n",
       "      <td>0</td>\n",
       "      <td>5</td>\n",
       "      <td>0</td>\n",
       "    </tr>\n",
       "    <tr>\n",
       "      <th>8</th>\n",
       "      <td>2.04</td>\n",
       "      <td>710</td>\n",
       "      <td>10.64</td>\n",
       "      <td>0.0</td>\n",
       "      <td>0.32</td>\n",
       "      <td>9.55</td>\n",
       "      <td>0.0</td>\n",
       "      <td>0.0</td>\n",
       "      <td>0.94</td>\n",
       "      <td>2.75</td>\n",
       "      <td>0</td>\n",
       "      <td>5</td>\n",
       "      <td>0</td>\n",
       "    </tr>\n",
       "    <tr>\n",
       "      <th>10</th>\n",
       "      <td>11.29</td>\n",
       "      <td>1387</td>\n",
       "      <td>34.90</td>\n",
       "      <td>0.0</td>\n",
       "      <td>1.05</td>\n",
       "      <td>25.17</td>\n",
       "      <td>0.0</td>\n",
       "      <td>0.0</td>\n",
       "      <td>3.10</td>\n",
       "      <td>2.75</td>\n",
       "      <td>0</td>\n",
       "      <td>5</td>\n",
       "      <td>0</td>\n",
       "    </tr>\n",
       "  </tbody>\n",
       "</table>\n",
       "</div>"
      ],
      "text/plain": [
       "    trip_miles  trip_time  base_passenger_fare  tips   bcf  driver_pay  tolls  \\\n",
       "0         1.18        664                24.90   0.0  0.75       23.03    0.0   \n",
       "1         0.82        460                11.97   0.0  0.36       12.32    0.0   \n",
       "2         1.18        595                29.82   0.0  0.89       23.30    0.0   \n",
       "3         1.65        303                 7.91   0.0  0.24        6.30    0.0   \n",
       "4         1.65        461                 9.44   0.0  0.28        7.44    0.0   \n",
       "5         4.51        762                17.67   0.0  0.53       12.25    0.0   \n",
       "6         3.68        931                16.68   0.0  0.50       12.75    0.0   \n",
       "7         2.77        843                14.41   4.0  0.43       11.47    0.0   \n",
       "8         2.04        710                10.64   0.0  0.32        9.55    0.0   \n",
       "10       11.29       1387                34.90   0.0  1.05       25.17    0.0   \n",
       "\n",
       "    airport_fee  sales_tax  congestion_surcharge  request_hour  \\\n",
       "0           0.0       2.21                  2.75             0   \n",
       "1           0.0       1.06                  2.75             0   \n",
       "2           0.0       2.65                  2.75             0   \n",
       "3           0.0       0.70                  2.75             0   \n",
       "4           0.0       0.84                  2.75             0   \n",
       "5           0.0       1.57                  2.75             0   \n",
       "6           0.0       1.48                  2.75             0   \n",
       "7           0.0       1.28                  0.00             0   \n",
       "8           0.0       0.94                  2.75             0   \n",
       "10          0.0       3.10                  2.75             0   \n",
       "\n",
       "    request_day_of_week  hvfhs_license_num_encoded  \n",
       "0                     5                          0  \n",
       "1                     5                          0  \n",
       "2                     5                          0  \n",
       "3                     5                          0  \n",
       "4                     5                          0  \n",
       "5                     5                          0  \n",
       "6                     5                          0  \n",
       "7                     5                          0  \n",
       "8                     5                          0  \n",
       "10                    5                          0  "
      ]
     },
     "execution_count": 18,
     "metadata": {},
     "output_type": "execute_result"
    }
   ],
   "source": [
    "print(\"Train Data Sample:\")\n",
    "train_data[:10]"
   ]
  },
  {
   "cell_type": "code",
   "execution_count": 19,
   "metadata": {},
   "outputs": [
    {
     "name": "stdout",
     "output_type": "stream",
     "text": [
      "Validation Data Sample:\n"
     ]
    },
    {
     "data": {
      "text/html": [
       "<div>\n",
       "<style scoped>\n",
       "    .dataframe tbody tr th:only-of-type {\n",
       "        vertical-align: middle;\n",
       "    }\n",
       "\n",
       "    .dataframe tbody tr th {\n",
       "        vertical-align: top;\n",
       "    }\n",
       "\n",
       "    .dataframe thead th {\n",
       "        text-align: right;\n",
       "    }\n",
       "</style>\n",
       "<table border=\"1\" class=\"dataframe\">\n",
       "  <thead>\n",
       "    <tr style=\"text-align: right;\">\n",
       "      <th></th>\n",
       "      <th>trip_miles</th>\n",
       "      <th>trip_time</th>\n",
       "      <th>base_passenger_fare</th>\n",
       "      <th>tips</th>\n",
       "      <th>bcf</th>\n",
       "      <th>driver_pay</th>\n",
       "      <th>tolls</th>\n",
       "      <th>airport_fee</th>\n",
       "      <th>sales_tax</th>\n",
       "      <th>congestion_surcharge</th>\n",
       "      <th>request_hour</th>\n",
       "      <th>request_day_of_week</th>\n",
       "      <th>hvfhs_license_num_encoded</th>\n",
       "    </tr>\n",
       "  </thead>\n",
       "  <tbody>\n",
       "    <tr>\n",
       "      <th>9149683</th>\n",
       "      <td>4.460</td>\n",
       "      <td>760</td>\n",
       "      <td>17.93</td>\n",
       "      <td>0.0</td>\n",
       "      <td>0.54</td>\n",
       "      <td>11.55</td>\n",
       "      <td>0.0</td>\n",
       "      <td>0.0</td>\n",
       "      <td>1.59</td>\n",
       "      <td>0.00</td>\n",
       "      <td>0</td>\n",
       "      <td>4</td>\n",
       "      <td>0</td>\n",
       "    </tr>\n",
       "    <tr>\n",
       "      <th>9149807</th>\n",
       "      <td>2.380</td>\n",
       "      <td>611</td>\n",
       "      <td>12.08</td>\n",
       "      <td>0.0</td>\n",
       "      <td>0.36</td>\n",
       "      <td>7.75</td>\n",
       "      <td>0.0</td>\n",
       "      <td>0.0</td>\n",
       "      <td>1.07</td>\n",
       "      <td>0.00</td>\n",
       "      <td>0</td>\n",
       "      <td>4</td>\n",
       "      <td>0</td>\n",
       "    </tr>\n",
       "    <tr>\n",
       "      <th>9150931</th>\n",
       "      <td>14.470</td>\n",
       "      <td>2193</td>\n",
       "      <td>43.78</td>\n",
       "      <td>0.0</td>\n",
       "      <td>1.31</td>\n",
       "      <td>35.94</td>\n",
       "      <td>0.0</td>\n",
       "      <td>0.0</td>\n",
       "      <td>3.89</td>\n",
       "      <td>2.75</td>\n",
       "      <td>0</td>\n",
       "      <td>4</td>\n",
       "      <td>0</td>\n",
       "    </tr>\n",
       "    <tr>\n",
       "      <th>9154127</th>\n",
       "      <td>1.380</td>\n",
       "      <td>583</td>\n",
       "      <td>8.95</td>\n",
       "      <td>0.0</td>\n",
       "      <td>0.32</td>\n",
       "      <td>7.38</td>\n",
       "      <td>0.0</td>\n",
       "      <td>0.0</td>\n",
       "      <td>0.93</td>\n",
       "      <td>0.00</td>\n",
       "      <td>0</td>\n",
       "      <td>4</td>\n",
       "      <td>0</td>\n",
       "    </tr>\n",
       "    <tr>\n",
       "      <th>9154380</th>\n",
       "      <td>9.470</td>\n",
       "      <td>995</td>\n",
       "      <td>27.70</td>\n",
       "      <td>0.0</td>\n",
       "      <td>0.83</td>\n",
       "      <td>20.59</td>\n",
       "      <td>0.0</td>\n",
       "      <td>0.0</td>\n",
       "      <td>2.46</td>\n",
       "      <td>2.75</td>\n",
       "      <td>0</td>\n",
       "      <td>4</td>\n",
       "      <td>0</td>\n",
       "    </tr>\n",
       "    <tr>\n",
       "      <th>9157991</th>\n",
       "      <td>10.270</td>\n",
       "      <td>1532</td>\n",
       "      <td>28.35</td>\n",
       "      <td>0.0</td>\n",
       "      <td>0.85</td>\n",
       "      <td>25.69</td>\n",
       "      <td>0.0</td>\n",
       "      <td>0.0</td>\n",
       "      <td>2.52</td>\n",
       "      <td>2.75</td>\n",
       "      <td>0</td>\n",
       "      <td>4</td>\n",
       "      <td>0</td>\n",
       "    </tr>\n",
       "    <tr>\n",
       "      <th>9159006</th>\n",
       "      <td>4.740</td>\n",
       "      <td>1239</td>\n",
       "      <td>21.75</td>\n",
       "      <td>0.0</td>\n",
       "      <td>0.65</td>\n",
       "      <td>17.40</td>\n",
       "      <td>0.0</td>\n",
       "      <td>0.0</td>\n",
       "      <td>1.93</td>\n",
       "      <td>0.00</td>\n",
       "      <td>0</td>\n",
       "      <td>4</td>\n",
       "      <td>0</td>\n",
       "    </tr>\n",
       "    <tr>\n",
       "      <th>9161684</th>\n",
       "      <td>0.890</td>\n",
       "      <td>389</td>\n",
       "      <td>8.41</td>\n",
       "      <td>0.0</td>\n",
       "      <td>0.25</td>\n",
       "      <td>5.89</td>\n",
       "      <td>0.0</td>\n",
       "      <td>0.0</td>\n",
       "      <td>0.75</td>\n",
       "      <td>0.00</td>\n",
       "      <td>0</td>\n",
       "      <td>4</td>\n",
       "      <td>0</td>\n",
       "    </tr>\n",
       "    <tr>\n",
       "      <th>9164521</th>\n",
       "      <td>19.640</td>\n",
       "      <td>1777</td>\n",
       "      <td>50.04</td>\n",
       "      <td>0.0</td>\n",
       "      <td>1.50</td>\n",
       "      <td>40.00</td>\n",
       "      <td>0.0</td>\n",
       "      <td>0.0</td>\n",
       "      <td>4.44</td>\n",
       "      <td>0.00</td>\n",
       "      <td>0</td>\n",
       "      <td>4</td>\n",
       "      <td>0</td>\n",
       "    </tr>\n",
       "    <tr>\n",
       "      <th>9165178</th>\n",
       "      <td>5.846</td>\n",
       "      <td>1242</td>\n",
       "      <td>23.88</td>\n",
       "      <td>0.0</td>\n",
       "      <td>0.72</td>\n",
       "      <td>16.89</td>\n",
       "      <td>0.0</td>\n",
       "      <td>0.0</td>\n",
       "      <td>2.12</td>\n",
       "      <td>0.00</td>\n",
       "      <td>0</td>\n",
       "      <td>4</td>\n",
       "      <td>1</td>\n",
       "    </tr>\n",
       "  </tbody>\n",
       "</table>\n",
       "</div>"
      ],
      "text/plain": [
       "         trip_miles  trip_time  base_passenger_fare  tips   bcf  driver_pay  \\\n",
       "9149683       4.460        760                17.93   0.0  0.54       11.55   \n",
       "9149807       2.380        611                12.08   0.0  0.36        7.75   \n",
       "9150931      14.470       2193                43.78   0.0  1.31       35.94   \n",
       "9154127       1.380        583                 8.95   0.0  0.32        7.38   \n",
       "9154380       9.470        995                27.70   0.0  0.83       20.59   \n",
       "9157991      10.270       1532                28.35   0.0  0.85       25.69   \n",
       "9159006       4.740       1239                21.75   0.0  0.65       17.40   \n",
       "9161684       0.890        389                 8.41   0.0  0.25        5.89   \n",
       "9164521      19.640       1777                50.04   0.0  1.50       40.00   \n",
       "9165178       5.846       1242                23.88   0.0  0.72       16.89   \n",
       "\n",
       "         tolls  airport_fee  sales_tax  congestion_surcharge  request_hour  \\\n",
       "9149683    0.0          0.0       1.59                  0.00             0   \n",
       "9149807    0.0          0.0       1.07                  0.00             0   \n",
       "9150931    0.0          0.0       3.89                  2.75             0   \n",
       "9154127    0.0          0.0       0.93                  0.00             0   \n",
       "9154380    0.0          0.0       2.46                  2.75             0   \n",
       "9157991    0.0          0.0       2.52                  2.75             0   \n",
       "9159006    0.0          0.0       1.93                  0.00             0   \n",
       "9161684    0.0          0.0       0.75                  0.00             0   \n",
       "9164521    0.0          0.0       4.44                  0.00             0   \n",
       "9165178    0.0          0.0       2.12                  0.00             0   \n",
       "\n",
       "         request_day_of_week  hvfhs_license_num_encoded  \n",
       "9149683                    4                          0  \n",
       "9149807                    4                          0  \n",
       "9150931                    4                          0  \n",
       "9154127                    4                          0  \n",
       "9154380                    4                          0  \n",
       "9157991                    4                          0  \n",
       "9159006                    4                          0  \n",
       "9161684                    4                          0  \n",
       "9164521                    4                          0  \n",
       "9165178                    4                          1  "
      ]
     },
     "execution_count": 19,
     "metadata": {},
     "output_type": "execute_result"
    }
   ],
   "source": [
    "print(\"Validation Data Sample:\")\n",
    "validation_data[:10]"
   ]
  },
  {
   "cell_type": "code",
   "execution_count": 20,
   "metadata": {},
   "outputs": [],
   "source": [
    "df[['trip_miles', 'trip_time', 'base_passenger_fare', 'tips']] = scaler.fit_transform(\n",
    "    df[['trip_miles', 'trip_time', 'base_passenger_fare', 'tips']]\n",
    ")\n"
   ]
  },
  {
   "cell_type": "code",
   "execution_count": 21,
   "metadata": {},
   "outputs": [],
   "source": [
    "df['hour'] = pandas.to_datetime(df['request_datetime']).dt.hour\n",
    "df['day_of_week'] = pandas.to_datetime(df['request_datetime']).dt.dayofweek"
   ]
  },
  {
   "cell_type": "markdown",
   "metadata": {},
   "source": [
    "# Base Passenger Fare Model"
   ]
  },
  {
   "cell_type": "markdown",
   "metadata": {},
   "source": [
    "## Prepare Data"
   ]
  },
  {
   "cell_type": "code",
   "execution_count": 22,
   "metadata": {},
   "outputs": [],
   "source": [
    "target_column = 'base_passenger_fare'\n",
    "\n",
    "# Extract features and targets\n",
    "X_train = train_data_scaled.drop(columns=[target_column])\n",
    "y_train = train_data_scaled[target_column]\n",
    "\n",
    "X_val = validation_data_scaled.drop(columns=[target_column])\n",
    "y_val = validation_data_scaled[target_column]\n",
    "\n",
    "X_test = test_data_scaled.drop(columns=[target_column])\n",
    "y_test = test_data_scaled[target_column]\n"
   ]
  },
  {
   "cell_type": "markdown",
   "metadata": {},
   "source": [
    "## Neural Network "
   ]
  },
  {
   "cell_type": "code",
   "execution_count": 23,
   "metadata": {},
   "outputs": [],
   "source": [
    "# Define the model\n",
    "model = Sequential([\n",
    "    # Explicit Input Layer\n",
    "    Input(shape=(X_train.shape[1],)),\n",
    "\n",
    "    # First Hidden Layer\n",
    "    Dense(128, activation='relu'),\n",
    "    BatchNormalization(),\n",
    "    Dropout(0.3),\n",
    "\n",
    "    # Second Hidden Layer\n",
    "    Dense(64, activation='relu'),\n",
    "    BatchNormalization(),\n",
    "    Dropout(0.3),\n",
    "\n",
    "    # Third Hidden Layer\n",
    "    Dense(32, activation='relu'),\n",
    "    BatchNormalization(),\n",
    "    Dropout(0.2),\n",
    "\n",
    "    # Output Layer\n",
    "    Dense(1, activation='linear')  # Linear activation for regression\n",
    "])\n",
    "\n",
    "# Compile the model\n",
    "model.compile(optimizer='adam', loss='mse', metrics=['mae'])\n"
   ]
  },
  {
   "cell_type": "markdown",
   "metadata": {},
   "source": [
    "## Train and Evaluate Model"
   ]
  },
  {
   "cell_type": "code",
   "execution_count": null,
   "metadata": {},
   "outputs": [
    {
     "name": "stdout",
     "output_type": "stream",
     "text": [
      "Epoch 1/20\n",
      "\u001b[1m629409/629409\u001b[0m \u001b[32m━━━━━━━━━━━━━━━━━━━━\u001b[0m\u001b[37m\u001b[0m \u001b[1m3417s\u001b[0m 5ms/step - loss: 0.0845 - mae: 0.2035 - val_loss: 0.9510 - val_mae: 0.0925\n",
      "Epoch 2/20\n",
      "\u001b[1m629409/629409\u001b[0m \u001b[32m━━━━━━━━━━━━━━━━━━━━\u001b[0m\u001b[37m\u001b[0m \u001b[1m2300s\u001b[0m 4ms/step - loss: 0.0699 - mae: 0.1917 - val_loss: 0.0218 - val_mae: 0.0854\n",
      "Epoch 3/20\n",
      "\u001b[1m629409/629409\u001b[0m \u001b[32m━━━━━━━━━━━━━━━━━━━━\u001b[0m\u001b[37m\u001b[0m \u001b[1m2070s\u001b[0m 3ms/step - loss: 0.0691 - mae: 0.1909 - val_loss: 0.0659 - val_mae: 0.0898\n",
      "Epoch 4/20\n",
      "\u001b[1m629409/629409\u001b[0m \u001b[32m━━━━━━━━━━━━━━━━━━━━\u001b[0m\u001b[37m\u001b[0m \u001b[1m1567s\u001b[0m 2ms/step - loss: 0.0692 - mae: 0.1906 - val_loss: 0.3866 - val_mae: 0.0945\n",
      "Epoch 5/20\n",
      "\u001b[1m629409/629409\u001b[0m \u001b[32m━━━━━━━━━━━━━━━━━━━━\u001b[0m\u001b[37m\u001b[0m \u001b[1m1577s\u001b[0m 3ms/step - loss: 0.0686 - mae: 0.1903 - val_loss: 0.1327 - val_mae: 0.0975\n",
      "Epoch 6/20\n",
      "\u001b[1m629409/629409\u001b[0m \u001b[32m━━━━━━━━━━━━━━━━━━━━\u001b[0m\u001b[37m\u001b[0m \u001b[1m2450s\u001b[0m 4ms/step - loss: 0.0686 - mae: 0.1903 - val_loss: 0.1126 - val_mae: 0.0995\n",
      "Epoch 7/20\n"
     ]
    }
   ],
   "source": [
    "early_stopping = EarlyStopping(monitor='val_loss', patience=5, restore_best_weights=True)\n",
    "\n",
    "history = model.fit(\n",
    "    X_train, y_train,\n",
    "    validation_data=(X_val, y_val),\n",
    "    epochs=20,\n",
    "    batch_size=32,\n",
    "    callbacks=[early_stopping],\n",
    "    verbose=1\n",
    ")"
   ]
  },
  {
   "cell_type": "code",
   "execution_count": null,
   "metadata": {},
   "outputs": [],
   "source": [
    "# Predictions\n",
    "y_pred = model.predict(X_test)\n",
    "\n",
    "# Metrics\n",
    "rmse = numpy.sqrt(mean_squared_error(y_test, y_pred))\n",
    "mae = mean_absolute_error(y_test, y_pred)\n",
    "\n",
    "print(\"RMSE:\", rmse)\n",
    "print(\"MAE:\", mae)"
   ]
  },
  {
   "cell_type": "markdown",
   "metadata": {},
   "source": [
    "## Plot Training History"
   ]
  },
  {
   "cell_type": "code",
   "execution_count": null,
   "metadata": {},
   "outputs": [],
   "source": [
    "# Plot training and validation loss\n",
    "plt.figure(figsize=(12, 6))\n",
    "plt.plot(history.history['loss'], label='Training Loss', marker='o')\n",
    "plt.plot(history.history['val_loss'], label='Validation Loss', marker='o')\n",
    "plt.title('Model Loss')\n",
    "plt.xlabel('Epochs')\n",
    "plt.ylabel('Loss')\n",
    "plt.legend()\n",
    "plt.grid(True)\n",
    "plt.show()\n",
    "\n",
    "# Plot training and validation MAE\n",
    "plt.figure(figsize=(12, 6))\n",
    "plt.plot(history.history['mae'], label='Training MAE', marker='o')\n",
    "plt.plot(history.history['val_mae'], label='Validation MAE', marker='o')\n",
    "plt.title('Model Mean Absolute Error (MAE)')\n",
    "plt.xlabel('Epochs')\n",
    "plt.ylabel('MAE')\n",
    "plt.legend()\n",
    "plt.grid(True)\n",
    "plt.show()"
   ]
  },
  {
   "cell_type": "markdown",
   "metadata": {},
   "source": [
    "## Compare Fare Predictions for Uber/Lyft"
   ]
  },
  {
   "cell_type": "code",
   "execution_count": null,
   "metadata": {},
   "outputs": [],
   "source": [
    "license_plates = {'HV0003': 'Uber', 'HV0005': 'Lyft'}\n",
    "\n",
    "for plate, company in license_plates.items():\n",
    "    group_data = test_data_scaled[test_data_scaled['hvfhs_license_num_encoded'] == encoder.transform([plate])[0]]\n",
    "    X_group = group_data.drop(columns=[target_column])\n",
    "    y_group_true = group_data[target_column]\n",
    "    \n",
    "    y_group_pred = model.predict(X_group)\n",
    "    \n",
    "    # Compute metrics for this group\n",
    "    group_rmse = numpy.sqrt(mean_squared_error(y_group_true, y_group_pred))\n",
    "    group_mae = mean_absolute_error(y_group_true, y_group_pred)\n",
    "    \n",
    "    print(f\"{company} ({plate}) - RMSE: {group_rmse:.2f}, MAE: {group_mae:.2f}\")\n",
    "    \n",
    "    # Plot true vs. predicted fares\n",
    "    plt.figure(figsize=(10, 5))\n",
    "    plt.scatter(y_group_true, y_group_pred, alpha=0.5, label=f\"{company} Predictions\")\n",
    "    plt.plot([y_group_true.min(), y_group_true.max()], [y_group_true.min(), y_group_true.max()], 'r--', label='Ideal Prediction')\n",
    "    plt.title(f\"True vs. Predicted Base Passenger Fare for {company}\")\n",
    "    plt.xlabel('True Fare')\n",
    "    plt.ylabel('Predicted Fare')\n",
    "    plt.legend(loc='upper right')\n",
    "    plt.grid(True)\n",
    "    plt.show()"
   ]
  },
  {
   "cell_type": "markdown",
   "metadata": {},
   "source": [
    "## Evaluate Accuracy by Hour"
   ]
  },
  {
   "cell_type": "code",
   "execution_count": null,
   "metadata": {},
   "outputs": [],
   "source": [
    "test_data_scaled['request_hour'] = test_data['request_hour']\n",
    "\n",
    "# Group by hour and compute average RMSE\n",
    "hourly_rmse = test_data_scaled.groupby('request_hour').apply(\n",
    "    lambda group: numpy.sqrt(mean_squared_error(group[target_column], model.predict(group.drop(columns=[target_column]))))\n",
    ")\n",
    "\n",
    "# Plot hourly RMSE\n",
    "plt.figure(figsize=(12, 6))\n",
    "hourly_rmse.plot(kind='bar', color='skyblue', edgecolor='black')\n",
    "plt.title('Hourly RMSE for Fare Predictions')\n",
    "plt.xlabel('Hour of the Day')\n",
    "plt.ylabel('RMSE')\n",
    "plt.grid(axis='y')\n",
    "plt.show()"
   ]
  },
  {
   "cell_type": "markdown",
   "metadata": {},
   "source": [
    "# Tips Model"
   ]
  },
  {
   "cell_type": "markdown",
   "metadata": {},
   "source": [
    "## Prepare Data"
   ]
  },
  {
   "cell_type": "code",
   "execution_count": null,
   "metadata": {},
   "outputs": [],
   "source": [
    "target_column = 'tips'\n",
    "\n",
    "# Extract features and targets\n",
    "X_train = train_data_scaled.drop(columns=[target_column])\n",
    "y_train = train_data_scaled[target_column]\n",
    "\n",
    "X_val = validation_data_scaled.drop(columns=[target_column])\n",
    "y_val = validation_data_scaled[target_column]\n",
    "\n",
    "X_test = test_data_scaled.drop(columns=[target_column])\n",
    "y_test = test_data_scaled[target_column]\n"
   ]
  },
  {
   "cell_type": "markdown",
   "metadata": {},
   "source": [
    "## Neural Network Model"
   ]
  },
  {
   "cell_type": "code",
   "execution_count": null,
   "metadata": {},
   "outputs": [],
   "source": [
    "# Define the model\n",
    "model = Sequential([\n",
    "    # Explicit Input Layer\n",
    "    Input(shape=(X_train.shape[1],)),\n",
    "\n",
    "    # First Hidden Layer\n",
    "    Dense(128, activation='relu'),\n",
    "    BatchNormalization(),\n",
    "    Dropout(0.3),\n",
    "\n",
    "    # Second Hidden Layer\n",
    "    Dense(64, activation='relu'),\n",
    "    BatchNormalization(),\n",
    "    Dropout(0.3),\n",
    "\n",
    "    # Third Hidden Layer\n",
    "    Dense(32, activation='relu'),\n",
    "    BatchNormalization(),\n",
    "    Dropout(0.2),\n",
    "\n",
    "    # Output Layer\n",
    "    Dense(1, activation='linear')  # Linear activation for regression\n",
    "])\n",
    "\n",
    "# Compile the model\n",
    "model.compile(optimizer='adam', loss='mse', metrics=['mae'])\n"
   ]
  },
  {
   "cell_type": "markdown",
   "metadata": {},
   "source": [
    "## Train and Evaluate Model"
   ]
  },
  {
   "cell_type": "code",
   "execution_count": null,
   "metadata": {},
   "outputs": [],
   "source": [
    "early_stopping = EarlyStopping(monitor='val_loss', patience=5, restore_best_weights=True)\n",
    "\n",
    "history = model.fit(\n",
    "    X_train, y_train,\n",
    "    validation_data=(X_val, y_val),\n",
    "    epochs=20,\n",
    "    batch_size=32,\n",
    "    callbacks=[early_stopping],\n",
    "    verbose=1\n",
    ")"
   ]
  },
  {
   "cell_type": "code",
   "execution_count": null,
   "metadata": {},
   "outputs": [],
   "source": [
    "# Predictions\n",
    "y_pred = model.predict(X_test)\n",
    "\n",
    "# Metrics\n",
    "rmse = numpy.sqrt(mean_squared_error(y_test, y_pred))\n",
    "mae = mean_absolute_error(y_test, y_pred)\n",
    "\n",
    "print(\"RMSE:\", rmse)\n",
    "print(\"MAE:\", mae)"
   ]
  },
  {
   "cell_type": "markdown",
   "metadata": {},
   "source": [
    "## Plot Training History"
   ]
  },
  {
   "cell_type": "code",
   "execution_count": null,
   "metadata": {},
   "outputs": [],
   "source": [
    "# Plot training and validation loss\n",
    "plt.figure(figsize=(12, 6))\n",
    "plt.plot(history.history['loss'], label='Training Loss', marker='o')\n",
    "plt.plot(history.history['val_loss'], label='Validation Loss', marker='o')\n",
    "plt.title('Model Loss')\n",
    "plt.xlabel('Epochs')\n",
    "plt.ylabel('Loss')\n",
    "plt.legend()\n",
    "plt.grid(True)\n",
    "plt.show()\n",
    "\n",
    "# Plot training and validation MAE\n",
    "plt.figure(figsize=(12, 6))\n",
    "plt.plot(history.history['mae'], label='Training MAE', marker='o')\n",
    "plt.plot(history.history['val_mae'], label='Validation MAE', marker='o')\n",
    "plt.title('Model Mean Absolute Error (MAE)')\n",
    "plt.xlabel('Epochs')\n",
    "plt.ylabel('MAE')\n",
    "plt.legend()\n",
    "plt.grid(True)\n",
    "plt.show()"
   ]
  }
 ],
 "metadata": {
  "kernelspec": {
   "display_name": "Python 3",
   "language": "python",
   "name": "python3"
  },
  "language_info": {
   "codemirror_mode": {
    "name": "ipython",
    "version": 3
   },
   "file_extension": ".py",
   "mimetype": "text/x-python",
   "name": "python",
   "nbconvert_exporter": "python",
   "pygments_lexer": "ipython3",
   "version": "3.12.2"
  }
 },
 "nbformat": 4,
 "nbformat_minor": 4
}
