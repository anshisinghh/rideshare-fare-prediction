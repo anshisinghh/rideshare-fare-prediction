{
 "cells": [
  {
   "cell_type": "code",
   "execution_count": 44,
   "metadata": {},
   "outputs": [],
   "source": [
    "# Parsing Data"
   ]
  },
  {
   "cell_type": "code",
   "execution_count": 45,
   "metadata": {},
   "outputs": [],
   "source": [
    "import os\n",
    "import pandas"
   ]
  },
  {
   "cell_type": "code",
   "execution_count": 46,
   "metadata": {},
   "outputs": [
    {
     "name": "stdout",
     "output_type": "stream",
     "text": [
      "Processing file: ./dataset\\fhv_tripdata_2020-01.parquet\n",
      "Processing file: ./dataset\\fhv_tripdata_2020-02.parquet\n",
      "Processing file: ./dataset\\fhv_tripdata_2020-03.parquet\n",
      "Processing file: ./dataset\\fhv_tripdata_2020-04.parquet\n",
      "Processing file: ./dataset\\fhv_tripdata_2020-05.parquet\n",
      "Processing file: ./dataset\\fhv_tripdata_2020-06.parquet\n",
      "Processing file: ./dataset\\fhv_tripdata_2020-07.parquet\n",
      "Processing file: ./dataset\\fhv_tripdata_2020-08.parquet\n",
      "Processing file: ./dataset\\fhv_tripdata_2020-09.parquet\n",
      "Processing file: ./dataset\\fhv_tripdata_2020-10.parquet\n",
      "Processing file: ./dataset\\fhv_tripdata_2020-11.parquet\n",
      "Processing file: ./dataset\\fhv_tripdata_2020-12.parquet\n",
      "Processing file: ./dataset\\fhv_tripdata_2021-01.parquet\n",
      "Processing file: ./dataset\\fhv_tripdata_2021-02.parquet\n",
      "Processing file: ./dataset\\fhv_tripdata_2021-03.parquet\n",
      "Processing file: ./dataset\\fhv_tripdata_2021-04.parquet\n",
      "Processing file: ./dataset\\fhv_tripdata_2021-05.parquet\n",
      "Processing file: ./dataset\\fhv_tripdata_2021-06.parquet\n",
      "Processing file: ./dataset\\fhv_tripdata_2021-07.parquet\n",
      "Processing file: ./dataset\\fhv_tripdata_2021-08.parquet\n",
      "Processing file: ./dataset\\fhv_tripdata_2021-09.parquet\n",
      "Processing file: ./dataset\\fhv_tripdata_2021-10.parquet\n",
      "Processing file: ./dataset\\fhv_tripdata_2021-11.parquet\n",
      "Processing file: ./dataset\\fhv_tripdata_2021-12.parquet\n",
      "Processing file: ./dataset\\fhv_tripdata_2022-01.parquet\n",
      "Processing file: ./dataset\\fhv_tripdata_2022-02.parquet\n",
      "Processing file: ./dataset\\fhv_tripdata_2022-03.parquet\n",
      "Processing file: ./dataset\\fhv_tripdata_2022-04.parquet\n",
      "Processing file: ./dataset\\fhv_tripdata_2022-05.parquet\n",
      "Processing file: ./dataset\\fhv_tripdata_2022-06.parquet\n",
      "Processing file: ./dataset\\fhv_tripdata_2022-07.parquet\n",
      "Processing file: ./dataset\\fhv_tripdata_2022-08.parquet\n",
      "Processing file: ./dataset\\fhv_tripdata_2022-09.parquet\n",
      "Processing file: ./dataset\\fhv_tripdata_2022-10.parquet\n",
      "Processing file: ./dataset\\fhv_tripdata_2022-11.parquet\n",
      "Processing file: ./dataset\\fhv_tripdata_2022-12.parquet\n",
      "Processing file: ./dataset\\fhv_tripdata_2023-01.parquet\n",
      "Processing file: ./dataset\\fhv_tripdata_2023-02.parquet\n",
      "Processing file: ./dataset\\fhv_tripdata_2023-03.parquet\n",
      "Processing file: ./dataset\\fhv_tripdata_2023-04.parquet\n",
      "Processing file: ./dataset\\fhv_tripdata_2023-05.parquet\n",
      "Processing file: ./dataset\\fhv_tripdata_2023-06.parquet\n",
      "Processing file: ./dataset\\fhv_tripdata_2023-07.parquet\n",
      "Processing file: ./dataset\\fhv_tripdata_2023-08.parquet\n",
      "Processing file: ./dataset\\fhv_tripdata_2023-09.parquet\n",
      "Processing file: ./dataset\\fhv_tripdata_2023-10.parquet\n",
      "Processing file: ./dataset\\fhv_tripdata_2023-11.parquet\n",
      "Processing file: ./dataset\\fhv_tripdata_2023-12.parquet\n",
      "Processing file: ./dataset\\fhv_tripdata_2024-01.parquet\n",
      "Processing file: ./dataset\\fhv_tripdata_2024-02.parquet\n",
      "Processing file: ./dataset\\fhv_tripdata_2024-03.parquet\n",
      "Processing file: ./dataset\\fhv_tripdata_2024-04.parquet\n",
      "Processing file: ./dataset\\fhv_tripdata_2024-05.parquet\n",
      "Processing file: ./dataset\\fhv_tripdata_2024-06.parquet\n",
      "Processing file: ./dataset\\fhv_tripdata_2024-07.parquet\n",
      "Processing file: ./dataset\\fhv_tripdata_2024-08.parquet\n",
      "Processing file: ./dataset\\fhv_tripdata_2024-09.parquet\n"
     ]
    }
   ],
   "source": [
    "for dirname, _, filenames in os.walk('./dataset'):\n",
    "    for filename in filenames:\n",
    "        filepath = os.path.join(dirname, filename)\n",
    "        print(f\"Processing file: {filepath}\")\n"
   ]
  },
  {
   "cell_type": "code",
   "execution_count": null,
   "metadata": {},
   "outputs": [
    {
     "name": "stdout",
     "output_type": "stream",
     "text": [
      "Total rows: 72825846\n"
     ]
    }
   ],
   "source": [
    "path_files = []\n",
    "\n",
    "for year in range(2020, 2025):\n",
    "    year_files = [files for files in os.listdir('./dataset') if f'_{year}-' in files]\n",
    "    year_files.sort() \n",
    "    \n",
    "    for file in year_files:\n",
    "        path_files.append(pandas.read_parquet('./dataset/' + file))\n"
   ]
  },
  {
   "cell_type": "code",
   "execution_count": null,
   "metadata": {},
   "outputs": [],
   "source": [
    "df = pandas.concat(path_files, ignore_index=True)\n",
    "print(f\"Total rows: {len(df)}\")"
   ]
  },
  {
   "cell_type": "code",
   "execution_count": 48,
   "metadata": {},
   "outputs": [
    {
     "data": {
      "text/plain": [
       "Index(['dispatching_base_num', 'pickup_datetime', 'dropOff_datetime',\n",
       "       'PUlocationID', 'DOlocationID', 'SR_Flag', 'Affiliated_base_number'],\n",
       "      dtype='object')"
      ]
     },
     "execution_count": 48,
     "metadata": {},
     "output_type": "execute_result"
    }
   ],
   "source": [
    "df.columns"
   ]
  },
  {
   "cell_type": "code",
   "execution_count": 49,
   "metadata": {},
   "outputs": [
    {
     "data": {
      "text/plain": [
       "'dispatching_base_num'"
      ]
     },
     "execution_count": 49,
     "metadata": {},
     "output_type": "execute_result"
    }
   ],
   "source": [
    "df.columns[0]"
   ]
  },
  {
   "cell_type": "code",
   "execution_count": null,
   "metadata": {},
   "outputs": [],
   "source": []
  },
  {
   "cell_type": "code",
   "execution_count": null,
   "metadata": {},
   "outputs": [],
   "source": []
  }
 ],
 "metadata": {
  "kernelspec": {
   "display_name": "Python 3",
   "language": "python",
   "name": "python3"
  },
  "language_info": {
   "codemirror_mode": {
    "name": "ipython",
    "version": 3
   },
   "file_extension": ".py",
   "mimetype": "text/x-python",
   "name": "python",
   "nbconvert_exporter": "python",
   "pygments_lexer": "ipython3",
   "version": "3.12.2"
  }
 },
 "nbformat": 4,
 "nbformat_minor": 2
}
